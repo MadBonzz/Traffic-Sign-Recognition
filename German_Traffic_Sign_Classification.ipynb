{
  "nbformat": 4,
  "nbformat_minor": 0,
  "metadata": {
    "colab": {
      "provenance": [],
      "gpuType": "T4"
    },
    "kernelspec": {
      "name": "python3",
      "display_name": "Python 3"
    },
    "language_info": {
      "name": "python"
    },
    "accelerator": "GPU"
  },
  "cells": [
    {
      "cell_type": "code",
      "execution_count": 1,
      "metadata": {
        "id": "VjAfOKlGIm2P"
      },
      "outputs": [],
      "source": [
        "!mkdir -p ~/.kaggle\n",
        "!cp kaggle.json ~/.kaggle"
      ]
    },
    {
      "cell_type": "code",
      "source": [
        "!kaggle datasets download -d meowmeowmeowmeowmeow/gtsrb-german-traffic-sign"
      ],
      "metadata": {
        "colab": {
          "base_uri": "https://localhost:8080/"
        },
        "id": "J08gWXBUI60t",
        "outputId": "a9552942-b065-425f-cdd6-95f9641dc12e"
      },
      "execution_count": 2,
      "outputs": [
        {
          "output_type": "stream",
          "name": "stdout",
          "text": [
            "Warning: Your Kaggle API key is readable by other users on this system! To fix this, you can run 'chmod 600 /root/.kaggle/kaggle.json'\n",
            "Downloading gtsrb-german-traffic-sign.zip to /content\n",
            "100% 611M/612M [00:15<00:00, 42.4MB/s]\n",
            "100% 612M/612M [00:15<00:00, 40.2MB/s]\n"
          ]
        }
      ]
    },
    {
      "cell_type": "code",
      "source": [
        "import zipfile\n",
        "zip_ref = zipfile.ZipFile('/content/gtsrb-german-traffic-sign.zip')\n",
        "zip_ref.extractall('/content')\n",
        "zip_ref.close()"
      ],
      "metadata": {
        "id": "rfjysAz0JLi2"
      },
      "execution_count": 3,
      "outputs": []
    },
    {
      "cell_type": "code",
      "source": [
        "import tensorflow as tf\n",
        "from tensorflow import keras\n",
        "from keras import Sequential\n",
        "from keras.layers import Dense, Conv2D, MaxPooling2D, Flatten, BatchNormalization, Dropout\n",
        "from keras.applications.vgg16 import VGG16\n",
        "import matplotlib.pyplot as plt"
      ],
      "metadata": {
        "id": "QEMMdXzbJsJw"
      },
      "execution_count": 4,
      "outputs": []
    },
    {
      "cell_type": "code",
      "source": [
        "train_ds, valid_ds = keras.utils.image_dataset_from_directory(\n",
        "    directory = '/content/Train',\n",
        "    labels = 'inferred',\n",
        "    label_mode = 'int',\n",
        "    batch_size = 32,\n",
        "    image_size = (256, 256),\n",
        "    subset='both',\n",
        "    validation_split = 0.2,\n",
        "    seed = 10\n",
        ")"
      ],
      "metadata": {
        "id": "TAu15xsLKcKA",
        "colab": {
          "base_uri": "https://localhost:8080/"
        },
        "outputId": "437242a5-2211-4110-83a6-77468cbdc1eb"
      },
      "execution_count": 5,
      "outputs": [
        {
          "output_type": "stream",
          "name": "stdout",
          "text": [
            "Found 39209 files belonging to 43 classes.\n",
            "Using 31368 files for training.\n",
            "Using 7841 files for validation.\n"
          ]
        }
      ]
    },
    {
      "cell_type": "code",
      "source": [
        "def process(image, label):\n",
        "  image = tf.cast(image/255, tf.float32)\n",
        "  return image, label"
      ],
      "metadata": {
        "id": "khvL54CO1Bva"
      },
      "execution_count": 6,
      "outputs": []
    },
    {
      "cell_type": "code",
      "source": [
        "train_ds.map(process)\n",
        "valid_ds.map(process)"
      ],
      "metadata": {
        "colab": {
          "base_uri": "https://localhost:8080/"
        },
        "id": "Xw0EHhRn3VWW",
        "outputId": "6ca1fb63-2086-497a-ca0c-a472ec158a3a"
      },
      "execution_count": 9,
      "outputs": [
        {
          "output_type": "execute_result",
          "data": {
            "text/plain": [
              "<_MapDataset element_spec=(TensorSpec(shape=(None, 256, 256, 3), dtype=tf.float32, name=None), TensorSpec(shape=(None,), dtype=tf.int32, name=None))>"
            ]
          },
          "metadata": {},
          "execution_count": 9
        }
      ]
    },
    {
      "cell_type": "code",
      "source": [
        "from keras.backend import dropout\n",
        "cnn = Sequential([\n",
        "    Conv2D(128, kernel_size = (3,3), padding = 'valid', activation = 'relu', input_shape = (256, 256, 3)),\n",
        "    #BatchNormalization(),\n",
        "    MaxPooling2D(pool_size = (2,2), strides=2, padding = 'valid'),\n",
        "\n",
        "    Conv2D(256, kernel_size = (3,3), padding = 'valid', activation = 'relu'),\n",
        "    #BatchNormalization(),\n",
        "    MaxPooling2D(pool_size = (2,2), strides=2, padding = 'valid'),\n",
        "\n",
        "    Conv2D(512, kernel_size = (3,3), padding = 'valid', activation = 'relu'),\n",
        "    #BatchNormalization(),\n",
        "    MaxPooling2D(pool_size = (2,2), strides=2, padding = 'valid'),\n",
        "\n",
        "    Flatten(),\n",
        "    Dense(128, activation = 'relu'),\n",
        "    Dropout(0.2),\n",
        "    Dense(64, activation = 'relu'),\n",
        "    Dropout(0.2),\n",
        "    Dense(43, activation = 'softmax')\n",
        "])"
      ],
      "metadata": {
        "id": "wZF7xdTf3bQI"
      },
      "execution_count": null,
      "outputs": []
    },
    {
      "cell_type": "code",
      "source": [
        "cnn.summary()"
      ],
      "metadata": {
        "colab": {
          "base_uri": "https://localhost:8080/"
        },
        "id": "49y8rIFD4fyi",
        "outputId": "2a15af08-5f88-43fb-9b39-ef8cf791b111"
      },
      "execution_count": null,
      "outputs": [
        {
          "output_type": "stream",
          "name": "stdout",
          "text": [
            "Model: \"sequential_1\"\n",
            "_________________________________________________________________\n",
            " Layer (type)                Output Shape              Param #   \n",
            "=================================================================\n",
            " conv2d_3 (Conv2D)           (None, 254, 254, 128)     3584      \n",
            "                                                                 \n",
            " max_pooling2d_3 (MaxPooling  (None, 127, 127, 128)    0         \n",
            " 2D)                                                             \n",
            "                                                                 \n",
            " conv2d_4 (Conv2D)           (None, 125, 125, 256)     295168    \n",
            "                                                                 \n",
            " max_pooling2d_4 (MaxPooling  (None, 62, 62, 256)      0         \n",
            " 2D)                                                             \n",
            "                                                                 \n",
            " conv2d_5 (Conv2D)           (None, 60, 60, 512)       1180160   \n",
            "                                                                 \n",
            " max_pooling2d_5 (MaxPooling  (None, 30, 30, 512)      0         \n",
            " 2D)                                                             \n",
            "                                                                 \n",
            " flatten_1 (Flatten)         (None, 460800)            0         \n",
            "                                                                 \n",
            " dense_3 (Dense)             (None, 128)               58982528  \n",
            "                                                                 \n",
            " dropout_2 (Dropout)         (None, 128)               0         \n",
            "                                                                 \n",
            " dense_4 (Dense)             (None, 64)                8256      \n",
            "                                                                 \n",
            " dropout_3 (Dropout)         (None, 64)                0         \n",
            "                                                                 \n",
            " dense_5 (Dense)             (None, 43)                2795      \n",
            "                                                                 \n",
            "=================================================================\n",
            "Total params: 60,472,491\n",
            "Trainable params: 60,472,491\n",
            "Non-trainable params: 0\n",
            "_________________________________________________________________\n"
          ]
        }
      ]
    },
    {
      "cell_type": "code",
      "source": [
        "cnn.compile(optimizer='Adam', loss = 'sparse_categorical_crossentropy', metrics = ['Accuracy'])"
      ],
      "metadata": {
        "id": "LC3MYOIJ5GSw"
      },
      "execution_count": null,
      "outputs": []
    },
    {
      "cell_type": "code",
      "source": [
        "history = cnn.fit(train_ds, epochs = 10, validation_data = valid_ds)"
      ],
      "metadata": {
        "colab": {
          "base_uri": "https://localhost:8080/"
        },
        "id": "q348tWoY5gSe",
        "outputId": "6612dfbd-e6b3-4e62-b290-b2a348f4d9f6"
      },
      "execution_count": null,
      "outputs": [
        {
          "output_type": "stream",
          "name": "stdout",
          "text": [
            "Epoch 1/10\n",
            "981/981 [==============================] - 295s 298ms/step - loss: 3.7903 - Accuracy: 0.3369 - val_loss: 1.6397 - val_Accuracy: 0.4922\n",
            "Epoch 2/10\n",
            "981/981 [==============================] - 291s 297ms/step - loss: 1.4455 - Accuracy: 0.5593 - val_loss: 0.8144 - val_Accuracy: 0.7683\n",
            "Epoch 3/10\n",
            "981/981 [==============================] - 292s 297ms/step - loss: 0.9562 - Accuracy: 0.7095 - val_loss: 0.6301 - val_Accuracy: 0.8208\n",
            "Epoch 4/10\n",
            "981/981 [==============================] - 290s 296ms/step - loss: 0.7461 - Accuracy: 0.7785 - val_loss: 0.5287 - val_Accuracy: 0.8521\n",
            "Epoch 5/10\n",
            "981/981 [==============================] - 290s 296ms/step - loss: 0.6305 - Accuracy: 0.8122 - val_loss: 0.3883 - val_Accuracy: 0.8948\n",
            "Epoch 6/10\n",
            "981/981 [==============================] - 290s 295ms/step - loss: 0.5517 - Accuracy: 0.8356 - val_loss: 0.3829 - val_Accuracy: 0.9015\n",
            "Epoch 7/10\n",
            "981/981 [==============================] - 289s 294ms/step - loss: 0.4788 - Accuracy: 0.8545 - val_loss: 0.3209 - val_Accuracy: 0.9110\n",
            "Epoch 8/10\n",
            "981/981 [==============================] - 289s 295ms/step - loss: 0.4448 - Accuracy: 0.8680 - val_loss: 0.2974 - val_Accuracy: 0.9157\n",
            "Epoch 9/10\n",
            "981/981 [==============================] - 288s 294ms/step - loss: 0.4048 - Accuracy: 0.8797 - val_loss: 0.2783 - val_Accuracy: 0.9195\n",
            "Epoch 10/10\n",
            "981/981 [==============================] - 289s 295ms/step - loss: 0.3902 - Accuracy: 0.8836 - val_loss: 0.2831 - val_Accuracy: 0.9239\n"
          ]
        }
      ]
    },
    {
      "cell_type": "code",
      "source": [
        "plt.plot(history.history['Accuracy'],color='red',label='train')\n",
        "plt.plot(history.history['val_Accuracy'],color='blue',label='validation')\n",
        "plt.legend()\n",
        "plt.show()"
      ],
      "metadata": {
        "id": "XSdnuXhd6eU4",
        "colab": {
          "base_uri": "https://localhost:8080/",
          "height": 430
        },
        "outputId": "2faad16c-66c9-4258-d090-4c7c535fdf17"
      },
      "execution_count": null,
      "outputs": [
        {
          "output_type": "display_data",
          "data": {
            "text/plain": [
              "<Figure size 640x480 with 1 Axes>"
            ],
            "image/png": "[encoded data removed]"
          },
          "metadata": {}
        }
      ]
    },
    {
      "cell_type": "code",
      "source": [
        "plt.plot(history.history['loss'],color='red',label='train')\n",
        "plt.plot(history.history['val_loss'],color='blue',label='validation')\n",
        "plt.legend()\n",
        "plt.show()"
      ],
      "metadata": {
        "colab": {
          "base_uri": "https://localhost:8080/",
          "height": 430
        },
        "id": "24YJwAs2H9se",
        "outputId": "9a07ee63-0f7c-4af4-e035-f2a5d14ef680"
      },
      "execution_count": null,
      "outputs": [
        {
          "output_type": "display_data",
          "data": {
            "text/plain": [
              "<Figure size 640x480 with 1 Axes>"
            ],
            "image/png": "[encoded data removed]"
          },
          "metadata": {}
        }
      ]
    },
    {
      "cell_type": "markdown",
      "source": [
        "Transfer Learning"
      ],
      "metadata": {
        "id": "_RiOYrYexl50"
      }
    },
    {
      "cell_type": "code",
      "source": [
        "base = VGG16(\n",
        "    weights = 'imagenet',\n",
        "    include_top = False,\n",
        "    input_shape = (256, 256, 3)\n",
        ")"
      ],
      "metadata": {
        "colab": {
          "base_uri": "https://localhost:8080/"
        },
        "id": "PxNRSctfxnoY",
        "outputId": "140e1768-15a1-45f9-b2cd-5ffce6b8377b"
      },
      "execution_count": null,
      "outputs": [
        {
          "output_type": "stream",
          "name": "stdout",
          "text": [
            "Downloading data from https://storage.googleapis.com/tensorflow/keras-applications/vgg16/vgg16_weights_tf_dim_ordering_tf_kernels_notop.h5\n",
            "58889256/58889256 [==============================] - 0s 0us/step\n"
          ]
        }
      ]
    },
    {
      "cell_type": "code",
      "source": [
        "model = Sequential([\n",
        "    base,\n",
        "    Flatten(),\n",
        "    Dense(128, activation = 'relu'),\n",
        "    BatchNormalization(),\n",
        "    Dropout(0.2),\n",
        "    Dense(64, activation = 'relu'),\n",
        "    BatchNormalization(),\n",
        "    Dropout(0.2),\n",
        "    Dense(43, activation = 'softmax')\n",
        "])"
      ],
      "metadata": {
        "id": "XM0vnVl1ywjg"
      },
      "execution_count": null,
      "outputs": []
    },
    {
      "cell_type": "code",
      "source": [
        "model.summary()"
      ],
      "metadata": {
        "colab": {
          "base_uri": "https://localhost:8080/"
        },
        "id": "ke5Rzukmz8r9",
        "outputId": "cc806690-aad9-45c6-9aa1-76929f324dd6"
      },
      "execution_count": null,
      "outputs": [
        {
          "output_type": "stream",
          "name": "stdout",
          "text": [
            "Model: \"sequential\"\n",
            "_________________________________________________________________\n",
            " Layer (type)                Output Shape              Param #   \n",
            "=================================================================\n",
            " vgg16 (Functional)          (None, 8, 8, 512)         14714688  \n",
            "                                                                 \n",
            " flatten_1 (Flatten)         (None, 32768)             0         \n",
            "                                                                 \n",
            " dense_1 (Dense)             (None, 128)               4194432   \n",
            "                                                                 \n",
            " batch_normalization (BatchN  (None, 128)              512       \n",
            " ormalization)                                                   \n",
            "                                                                 \n",
            " dropout (Dropout)           (None, 128)               0         \n",
            "                                                                 \n",
            " dense_2 (Dense)             (None, 64)                8256      \n",
            "                                                                 \n",
            " batch_normalization_1 (Batc  (None, 64)               256       \n",
            " hNormalization)                                                 \n",
            "                                                                 \n",
            " dropout_1 (Dropout)         (None, 64)                0         \n",
            "                                                                 \n",
            " dense_3 (Dense)             (None, 43)                2795      \n",
            "                                                                 \n",
            "=================================================================\n",
            "Total params: 18,920,939\n",
            "Trainable params: 18,920,555\n",
            "Non-trainable params: 384\n",
            "_________________________________________________________________\n"
          ]
        }
      ]
    },
    {
      "cell_type": "code",
      "source": [
        "base.trainable = False"
      ],
      "metadata": {
        "id": "t_j3LIXy0MFE"
      },
      "execution_count": null,
      "outputs": []
    },
    {
      "cell_type": "code",
      "source": [
        "model.summary()"
      ],
      "metadata": {
        "colab": {
          "base_uri": "https://localhost:8080/"
        },
        "id": "cFY4wwy-0Sck",
        "outputId": "559185f6-2ae4-4f24-aa11-6824a1856d54"
      },
      "execution_count": null,
      "outputs": [
        {
          "output_type": "stream",
          "name": "stdout",
          "text": [
            "Model: \"sequential\"\n",
            "_________________________________________________________________\n",
            " Layer (type)                Output Shape              Param #   \n",
            "=================================================================\n",
            " vgg16 (Functional)          (None, 8, 8, 512)         14714688  \n",
            "                                                                 \n",
            " flatten_1 (Flatten)         (None, 32768)             0         \n",
            "                                                                 \n",
            " dense_1 (Dense)             (None, 128)               4194432   \n",
            "                                                                 \n",
            " batch_normalization (BatchN  (None, 128)              512       \n",
            " ormalization)                                                   \n",
            "                                                                 \n",
            " dropout (Dropout)           (None, 128)               0         \n",
            "                                                                 \n",
            " dense_2 (Dense)             (None, 64)                8256      \n",
            "                                                                 \n",
            " batch_normalization_1 (Batc  (None, 64)               256       \n",
            " hNormalization)                                                 \n",
            "                                                                 \n",
            " dropout_1 (Dropout)         (None, 64)                0         \n",
            "                                                                 \n",
            " dense_3 (Dense)             (None, 43)                2795      \n",
            "                                                                 \n",
            "=================================================================\n",
            "Total params: 18,920,939\n",
            "Trainable params: 4,205,867\n",
            "Non-trainable params: 14,715,072\n",
            "_________________________________________________________________\n"
          ]
        }
      ]
    },
    {
      "cell_type": "code",
      "source": [
        "model.compile(optimizer='Adam', loss = 'sparse_categorical_crossentropy', metrics = ['accuracy'])"
      ],
      "metadata": {
        "id": "nmK5Wgy80T9w"
      },
      "execution_count": null,
      "outputs": []
    },
    {
      "cell_type": "code",
      "source": [
        "history = model.fit(train_ds, epochs = 10, validation_data = valid_ds)"
      ],
      "metadata": {
        "colab": {
          "base_uri": "https://localhost:8080/"
        },
        "id": "0yL5WTM80lvo",
        "outputId": "41d3d81a-0b11-451d-81f8-390b46ecd55c"
      },
      "execution_count": null,
      "outputs": [
        {
          "output_type": "stream",
          "name": "stdout",
          "text": [
            "Epoch 1/10\n",
            "981/981 [==============================] - 212s 199ms/step - loss: 0.5397 - accuracy: 0.8761 - val_loss: 0.1457 - val_accuracy: 0.9681\n",
            "Epoch 2/10\n",
            "981/981 [==============================] - 199s 203ms/step - loss: 0.0864 - accuracy: 0.9784 - val_loss: 0.1381 - val_accuracy: 0.9821\n",
            "Epoch 3/10\n",
            "981/981 [==============================] - 200s 204ms/step - loss: 0.0543 - accuracy: 0.9863 - val_loss: 0.1413 - val_accuracy: 0.9810\n",
            "Epoch 4/10\n",
            "981/981 [==============================] - 200s 204ms/step - loss: 0.0470 - accuracy: 0.9865 - val_loss: 0.1583 - val_accuracy: 0.9866\n",
            "Epoch 5/10\n",
            "981/981 [==============================] - 200s 204ms/step - loss: 0.0367 - accuracy: 0.9899 - val_loss: 0.1554 - val_accuracy: 0.9875\n",
            "Epoch 6/10\n",
            "981/981 [==============================] - 203s 207ms/step - loss: 0.0314 - accuracy: 0.9909 - val_loss: 0.1277 - val_accuracy: 0.9853\n",
            "Epoch 7/10\n",
            "981/981 [==============================] - 204s 208ms/step - loss: 0.0294 - accuracy: 0.9915 - val_loss: 0.1180 - val_accuracy: 0.9893\n",
            "Epoch 8/10\n",
            "981/981 [==============================] - 205s 208ms/step - loss: 0.0280 - accuracy: 0.9917 - val_loss: 0.1257 - val_accuracy: 0.9893\n",
            "Epoch 9/10\n",
            "981/981 [==============================] - 204s 208ms/step - loss: 0.0248 - accuracy: 0.9928 - val_loss: 0.1303 - val_accuracy: 0.9880\n",
            "Epoch 10/10\n",
            "981/981 [==============================] - 204s 208ms/step - loss: 0.0183 - accuracy: 0.9946 - val_loss: 0.1238 - val_accuracy: 0.9897\n"
          ]
        }
      ]
    },
    {
      "cell_type": "code",
      "source": [
        "plt.plot(history.history['accuracy'],color='red',label='train')\n",
        "plt.plot(history.history['val_accuracy'],color='blue',label='validation')\n",
        "plt.legend()\n",
        "plt.show()"
      ],
      "metadata": {
        "colab": {
          "base_uri": "https://localhost:8080/",
          "height": 434
        },
        "id": "IxYmrFxE0qg8",
        "outputId": "91f68ec1-db9f-4da3-9faf-d5f25fdb5763"
      },
      "execution_count": null,
      "outputs": [
        {
          "output_type": "display_data",
          "data": {
            "text/plain": [
              "<Figure size 640x480 with 1 Axes>"
            ],
            "image/png": "[encoded data removed]"
          },
          "metadata": {}
        }
      ]
    },
    {
      "cell_type": "code",
      "source": [
        "plt.plot(history.history['loss'],color='red',label='train')\n",
        "plt.plot(history.history['val_loss'],color='blue',label='validation')\n",
        "plt.legend()\n",
        "plt.show()"
      ],
      "metadata": {
        "colab": {
          "base_uri": "https://localhost:8080/",
          "height": 430
        },
        "id": "ANA7WxA880JY",
        "outputId": "20366e73-4b08-4ea0-8527-caa005217d9b"
      },
      "execution_count": null,
      "outputs": [
        {
          "output_type": "display_data",
          "data": {
            "text/plain": [
              "<Figure size 640x480 with 1 Axes>"
            ],
            "image/png": "[encoded data removed]"
          },
          "metadata": {}
        }
      ]
    },
    {
      "cell_type": "markdown",
      "source": [
        "Fine Tuning"
      ],
      "metadata": {
        "id": "7agP8i4uaI0Z"
      }
    },
    {
      "cell_type": "code",
      "source": [
        "base_model = VGG16(\n",
        "    weights = 'imagenet',\n",
        "    include_top = False,\n",
        "    input_shape = (256, 256, 3)\n",
        ")"
      ],
      "metadata": {
        "id": "lpznHaO39CbS",
        "colab": {
          "base_uri": "https://localhost:8080/"
        },
        "outputId": "7b267b9b-2379-434a-d59a-8b90d6c94348"
      },
      "execution_count": 7,
      "outputs": [
        {
          "output_type": "stream",
          "name": "stdout",
          "text": [
            "Downloading data from https://storage.googleapis.com/tensorflow/keras-applications/vgg16/vgg16_weights_tf_dim_ordering_tf_kernels_notop.h5\n",
            "58889256/58889256 [==============================] - 2s 0us/step\n"
          ]
        }
      ]
    },
    {
      "cell_type": "code",
      "source": [
        "base_model.summary()"
      ],
      "metadata": {
        "colab": {
          "base_uri": "https://localhost:8080/"
        },
        "id": "2UVDf7NTaqYf",
        "outputId": "685539b6-6b07-44b0-c29e-a17a3df4911e"
      },
      "execution_count": 8,
      "outputs": [
        {
          "output_type": "stream",
          "name": "stdout",
          "text": [
            "Model: \"vgg16\"\n",
            "_________________________________________________________________\n",
            " Layer (type)                Output Shape              Param #   \n",
            "=================================================================\n",
            " input_1 (InputLayer)        [(None, 256, 256, 3)]     0         \n",
            "                                                                 \n",
            " block1_conv1 (Conv2D)       (None, 256, 256, 64)      1792      \n",
            "                                                                 \n",
            " block1_conv2 (Conv2D)       (None, 256, 256, 64)      36928     \n",
            "                                                                 \n",
            " block1_pool (MaxPooling2D)  (None, 128, 128, 64)      0         \n",
            "                                                                 \n",
            " block2_conv1 (Conv2D)       (None, 128, 128, 128)     73856     \n",
            "                                                                 \n",
            " block2_conv2 (Conv2D)       (None, 128, 128, 128)     147584    \n",
            "                                                                 \n",
            " block2_pool (MaxPooling2D)  (None, 64, 64, 128)       0         \n",
            "                                                                 \n",
            " block3_conv1 (Conv2D)       (None, 64, 64, 256)       295168    \n",
            "                                                                 \n",
            " block3_conv2 (Conv2D)       (None, 64, 64, 256)       590080    \n",
            "                                                                 \n",
            " block3_conv3 (Conv2D)       (None, 64, 64, 256)       590080    \n",
            "                                                                 \n",
            " block3_pool (MaxPooling2D)  (None, 32, 32, 256)       0         \n",
            "                                                                 \n",
            " block4_conv1 (Conv2D)       (None, 32, 32, 512)       1180160   \n",
            "                                                                 \n",
            " block4_conv2 (Conv2D)       (None, 32, 32, 512)       2359808   \n",
            "                                                                 \n",
            " block4_conv3 (Conv2D)       (None, 32, 32, 512)       2359808   \n",
            "                                                                 \n",
            " block4_pool (MaxPooling2D)  (None, 16, 16, 512)       0         \n",
            "                                                                 \n",
            " block5_conv1 (Conv2D)       (None, 16, 16, 512)       2359808   \n",
            "                                                                 \n",
            " block5_conv2 (Conv2D)       (None, 16, 16, 512)       2359808   \n",
            "                                                                 \n",
            " block5_conv3 (Conv2D)       (None, 16, 16, 512)       2359808   \n",
            "                                                                 \n",
            " block5_pool (MaxPooling2D)  (None, 8, 8, 512)         0         \n",
            "                                                                 \n",
            "=================================================================\n",
            "Total params: 14,714,688\n",
            "Trainable params: 14,714,688\n",
            "Non-trainable params: 0\n",
            "_________________________________________________________________\n"
          ]
        }
      ]
    },
    {
      "cell_type": "code",
      "source": [
        "base_model.trainable = True\n",
        "\n",
        "set_trainable = False\n",
        "\n",
        "for layer in base_model.layers:\n",
        "  if layer.name == 'block5_conv1':\n",
        "    set_trainable = True\n",
        "  if set_trainable:\n",
        "    layer.trainable = True\n",
        "  else:\n",
        "    layer.trainable = False\n",
        "\n",
        "for layer in base_model.layers:\n",
        "  print(layer.name,layer.trainable)"
      ],
      "metadata": {
        "colab": {
          "base_uri": "https://localhost:8080/"
        },
        "id": "MiRkJy0Ias0l",
        "outputId": "8accfb8f-6844-4f29-ed96-cafff2ec8a8b"
      },
      "execution_count": 11,
      "outputs": [
        {
          "output_type": "stream",
          "name": "stdout",
          "text": [
            "input_1 False\n",
            "block1_conv1 False\n",
            "block1_conv2 False\n",
            "block1_pool False\n",
            "block2_conv1 False\n",
            "block2_conv2 False\n",
            "block2_pool False\n",
            "block3_conv1 False\n",
            "block3_conv2 False\n",
            "block3_conv3 False\n",
            "block3_pool False\n",
            "block4_conv1 False\n",
            "block4_conv2 False\n",
            "block4_conv3 False\n",
            "block4_pool False\n",
            "block5_conv1 True\n",
            "block5_conv2 True\n",
            "block5_conv3 True\n",
            "block5_pool True\n"
          ]
        }
      ]
    },
    {
      "cell_type": "code",
      "source": [
        "base_model.summary()"
      ],
      "metadata": {
        "colab": {
          "base_uri": "https://localhost:8080/"
        },
        "id": "BeHlRw8ZbAhD",
        "outputId": "59741a34-be37-488f-d3d6-62e777a1afbe"
      },
      "execution_count": 12,
      "outputs": [
        {
          "output_type": "stream",
          "name": "stdout",
          "text": [
            "Model: \"vgg16\"\n",
            "_________________________________________________________________\n",
            " Layer (type)                Output Shape              Param #   \n",
            "=================================================================\n",
            " input_1 (InputLayer)        [(None, 256, 256, 3)]     0         \n",
            "                                                                 \n",
            " block1_conv1 (Conv2D)       (None, 256, 256, 64)      1792      \n",
            "                                                                 \n",
            " block1_conv2 (Conv2D)       (None, 256, 256, 64)      36928     \n",
            "                                                                 \n",
            " block1_pool (MaxPooling2D)  (None, 128, 128, 64)      0         \n",
            "                                                                 \n",
            " block2_conv1 (Conv2D)       (None, 128, 128, 128)     73856     \n",
            "                                                                 \n",
            " block2_conv2 (Conv2D)       (None, 128, 128, 128)     147584    \n",
            "                                                                 \n",
            " block2_pool (MaxPooling2D)  (None, 64, 64, 128)       0         \n",
            "                                                                 \n",
            " block3_conv1 (Conv2D)       (None, 64, 64, 256)       295168    \n",
            "                                                                 \n",
            " block3_conv2 (Conv2D)       (None, 64, 64, 256)       590080    \n",
            "                                                                 \n",
            " block3_conv3 (Conv2D)       (None, 64, 64, 256)       590080    \n",
            "                                                                 \n",
            " block3_pool (MaxPooling2D)  (None, 32, 32, 256)       0         \n",
            "                                                                 \n",
            " block4_conv1 (Conv2D)       (None, 32, 32, 512)       1180160   \n",
            "                                                                 \n",
            " block4_conv2 (Conv2D)       (None, 32, 32, 512)       2359808   \n",
            "                                                                 \n",
            " block4_conv3 (Conv2D)       (None, 32, 32, 512)       2359808   \n",
            "                                                                 \n",
            " block4_pool (MaxPooling2D)  (None, 16, 16, 512)       0         \n",
            "                                                                 \n",
            " block5_conv1 (Conv2D)       (None, 16, 16, 512)       2359808   \n",
            "                                                                 \n",
            " block5_conv2 (Conv2D)       (None, 16, 16, 512)       2359808   \n",
            "                                                                 \n",
            " block5_conv3 (Conv2D)       (None, 16, 16, 512)       2359808   \n",
            "                                                                 \n",
            " block5_pool (MaxPooling2D)  (None, 8, 8, 512)         0         \n",
            "                                                                 \n",
            "=================================================================\n",
            "Total params: 14,714,688\n",
            "Trainable params: 7,079,424\n",
            "Non-trainable params: 7,635,264\n",
            "_________________________________________________________________\n"
          ]
        }
      ]
    },
    {
      "cell_type": "code",
      "source": [
        "clf_model = Sequential([\n",
        "    base_model,\n",
        "    Flatten(),\n",
        "    Dense(128, activation = 'relu'),\n",
        "    BatchNormalization(),\n",
        "    Dropout(0.2),\n",
        "    Dense(64, activation = 'relu'),\n",
        "    BatchNormalization(),\n",
        "    Dropout(0.2),\n",
        "    Dense(43, activation = 'softmax')\n",
        "])"
      ],
      "metadata": {
        "id": "eB-7claBbg8J"
      },
      "execution_count": 22,
      "outputs": []
    },
    {
      "cell_type": "code",
      "source": [
        "clf_model.compile(optimizer='Adam', loss = 'sparse_categorical_crossentropy', metrics = ['accuracy'])"
      ],
      "metadata": {
        "id": "hYqmhwrMh5-d"
      },
      "execution_count": 23,
      "outputs": []
    },
    {
      "cell_type": "code",
      "source": [
        "history = clf_model.fit(train_ds, epochs = 10, validation_data = valid_ds)"
      ],
      "metadata": {
        "colab": {
          "base_uri": "https://localhost:8080/"
        },
        "id": "OWDqGcW5iBfZ",
        "outputId": "27c0cd0e-4a69-4591-b197-4b69a50123a0"
      },
      "execution_count": 25,
      "outputs": [
        {
          "output_type": "stream",
          "name": "stdout",
          "text": [
            "Epoch 1/10\n",
            "981/981 [==============================] - 295s 282ms/step - loss: 0.9729 - accuracy: 0.7489 - val_loss: 0.2282 - val_accuracy: 0.9790\n",
            "Epoch 2/10\n",
            "981/981 [==============================] - 233s 238ms/step - loss: 0.0949 - accuracy: 0.9795 - val_loss: 0.4040 - val_accuracy: 0.9864\n",
            "Epoch 3/10\n",
            "981/981 [==============================] - 233s 237ms/step - loss: 0.0412 - accuracy: 0.9914 - val_loss: 0.7311 - val_accuracy: 0.9888\n",
            "Epoch 4/10\n",
            "981/981 [==============================] - 233s 237ms/step - loss: 0.0343 - accuracy: 0.9913 - val_loss: 1.5687 - val_accuracy: 0.9927\n",
            "Epoch 5/10\n",
            "981/981 [==============================] - 233s 237ms/step - loss: 0.0264 - accuracy: 0.9937 - val_loss: 0.0725 - val_accuracy: 0.9819\n",
            "Epoch 6/10\n",
            "981/981 [==============================] - 233s 237ms/step - loss: 0.0192 - accuracy: 0.9953 - val_loss: 7.1612 - val_accuracy: 0.9899\n",
            "Epoch 7/10\n",
            "981/981 [==============================] - 274s 279ms/step - loss: 0.0165 - accuracy: 0.9957 - val_loss: 2.2030 - val_accuracy: 0.9912\n",
            "Epoch 8/10\n",
            "981/981 [==============================] - 274s 279ms/step - loss: 0.0191 - accuracy: 0.9955 - val_loss: 8.0682 - val_accuracy: 0.9962\n",
            "Epoch 9/10\n",
            "981/981 [==============================] - 233s 237ms/step - loss: 0.0090 - accuracy: 0.9977 - val_loss: 0.1313 - val_accuracy: 0.9927\n",
            "Epoch 10/10\n",
            "981/981 [==============================] - 233s 237ms/step - loss: 0.0138 - accuracy: 0.9967 - val_loss: 0.7358 - val_accuracy: 0.9977\n"
          ]
        }
      ]
    },
    {
      "cell_type": "code",
      "source": [],
      "metadata": {
        "id": "PTvwPkaHiFzD"
      },
      "execution_count": null,
      "outputs": []
    }
  ]
}